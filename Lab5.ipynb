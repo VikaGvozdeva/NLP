{
  "nbformat": 4,
  "nbformat_minor": 0,
  "metadata": {
    "colab": {
      "name": "Копия Lab5.ipynb",
      "version": "0.3.2",
      "provenance": [],
      "collapsed_sections": []
    },
    "kernelspec": {
      "name": "python3",
      "display_name": "Python 3"
    },
    "accelerator": "GPU"
  },
  "cells": [
    {
      "cell_type": "code",
      "metadata": {
        "id": "MHNM6fZNGKCd",
        "colab_type": "code",
        "outputId": "cbdd7792-c49c-402a-f121-9301b777ddad",
        "colab": {
          "base_uri": "https://localhost:8080/",
          "height": 51
        }
      },
      "source": [
        "import csv\n",
        "import numpy as np\n",
        "import sys\n",
        "from tqdm import tqdm\n",
        "import pandas as pd\n",
        "import re \n",
        "import nltk\n",
        "nltk.download('stopwords')\n",
        "from nltk.corpus import stopwords"
      ],
      "execution_count": 0,
      "outputs": [
        {
          "output_type": "stream",
          "text": [
            "[nltk_data] Downloading package stopwords to /root/nltk_data...\n",
            "[nltk_data]   Package stopwords is already up-to-date!\n"
          ],
          "name": "stdout"
        }
      ]
    },
    {
      "cell_type": "code",
      "metadata": {
        "id": "wt2tuMZJ_gVY",
        "colab_type": "code",
        "colab": {}
      },
      "source": [
        "#import unidecode\n",
        "import string\n",
        "import random\n",
        "import re"
      ],
      "execution_count": 0,
      "outputs": []
    },
    {
      "cell_type": "code",
      "metadata": {
        "id": "qQB-I6sTGIvI",
        "colab_type": "code",
        "colab": {}
      },
      "source": [
        "import warnings\n",
        "warnings.filterwarnings(\"ignore\")"
      ],
      "execution_count": 0,
      "outputs": []
    },
    {
      "cell_type": "code",
      "metadata": {
        "id": "U_MRdO-EFxmS",
        "colab_type": "code",
        "outputId": "2eebfe80-6305-4ff3-8413-aa758bbed000",
        "colab": {
          "base_uri": "https://localhost:8080/",
          "height": 54
        }
      },
      "source": [
        "from google.colab import drive\n",
        "drive.mount('/content/drive')"
      ],
      "execution_count": 0,
      "outputs": [
        {
          "output_type": "stream",
          "text": [
            "Drive already mounted at /content/drive; to attempt to forcibly remount, call drive.mount(\"/content/drive\", force_remount=True).\n"
          ],
          "name": "stdout"
        }
      ]
    },
    {
      "cell_type": "code",
      "metadata": {
        "id": "zZEh7IlvauRy",
        "colab_type": "code",
        "colab": {}
      },
      "source": [
        ""
      ],
      "execution_count": 0,
      "outputs": []
    },
    {
      "cell_type": "code",
      "metadata": {
        "id": "izicqZ4Lcfsk",
        "colab_type": "code",
        "colab": {}
      },
      "source": [
        "filename = \"/content/drive/My Drive/nlp/lenta.csv\"\n",
        "#raw_text = open(filename).read()\n",
        "#raw_text = raw_text.lower()"
      ],
      "execution_count": 0,
      "outputs": []
    },
    {
      "cell_type": "code",
      "metadata": {
        "id": "b9231t2hciQ2",
        "colab_type": "code",
        "colab": {}
      },
      "source": [
        "data = pd.read_csv(filename, sep = ';')"
      ],
      "execution_count": 0,
      "outputs": []
    },
    {
      "cell_type": "code",
      "metadata": {
        "id": "GRhxz8wtckzo",
        "colab_type": "code",
        "outputId": "829e5e8a-957c-4501-cc2f-793c6474d633",
        "colab": {
          "base_uri": "https://localhost:8080/",
          "height": 357
        }
      },
      "source": [
        "data.head()"
      ],
      "execution_count": 0,
      "outputs": [
        {
          "output_type": "execute_result",
          "data": {
            "text/html": [
              "<div>\n",
              "<style scoped>\n",
              "    .dataframe tbody tr th:only-of-type {\n",
              "        vertical-align: middle;\n",
              "    }\n",
              "\n",
              "    .dataframe tbody tr th {\n",
              "        vertical-align: top;\n",
              "    }\n",
              "\n",
              "    .dataframe thead th {\n",
              "        text-align: right;\n",
              "    }\n",
              "</style>\n",
              "<table border=\"1\" class=\"dataframe\">\n",
              "  <thead>\n",
              "    <tr style=\"text-align: right;\">\n",
              "      <th></th>\n",
              "      <th>url</th>\n",
              "      <th>title</th>\n",
              "      <th>text</th>\n",
              "      <th>topic</th>\n",
              "      <th>tags</th>\n",
              "    </tr>\n",
              "  </thead>\n",
              "  <tbody>\n",
              "    <tr>\n",
              "      <th>0</th>\n",
              "      <td>https://lenta.ru/news/2019/03/06/sofar/</td>\n",
              "      <td>Раскрыта уязвимость «Посейдона»</td>\n",
              "      <td>Перемещающийся со скоростью около 100 узлов (б...</td>\n",
              "      <td>Наука и техника</td>\n",
              "      <td>Оружие</td>\n",
              "    </tr>\n",
              "    <tr>\n",
              "      <th>1</th>\n",
              "      <td>https://lenta.ru/news/2019/03/05/sexists_gibdd/</td>\n",
              "      <td>ГИБДД помечтала о дороге без женщин</td>\n",
              "      <td>Госавтоинспекция Уфы помечтала о возможности и...</td>\n",
              "      <td>Интернет и СМИ</td>\n",
              "      <td>Интернет</td>\n",
              "    </tr>\n",
              "    <tr>\n",
              "      <th>2</th>\n",
              "      <td>https://lenta.ru/news/2019/03/06/vishinskiy/</td>\n",
              "      <td>Кириллу Вышинскому предъявили обвинения и собр...</td>\n",
              "      <td>Арестованному на Украине руководителю портала ...</td>\n",
              "      <td>Бывший СССР</td>\n",
              "      <td>Украина</td>\n",
              "    </tr>\n",
              "    <tr>\n",
              "      <th>3</th>\n",
              "      <td>https://lenta.ru/news/2019/03/06/champions_lea...</td>\n",
              "      <td>«Реал» впервые за 5 лет остался без четвертьфи...</td>\n",
              "      <td>Первыми четвертьфиналистами Лиги Чемпионов ста...</td>\n",
              "      <td>Спорт</td>\n",
              "      <td>Футбол</td>\n",
              "    </tr>\n",
              "    <tr>\n",
              "      <th>4</th>\n",
              "      <td>https://lenta.ru/news/2019/03/06/venezuela/</td>\n",
              "      <td>Определено будущее венесуэльских денег в России</td>\n",
              "      <td>Счета венесуэльских компаний в России переведу...</td>\n",
              "      <td>Экономика</td>\n",
              "      <td>NaN</td>\n",
              "    </tr>\n",
              "  </tbody>\n",
              "</table>\n",
              "</div>"
            ],
            "text/plain": [
              "                                                 url  ...      tags\n",
              "0            https://lenta.ru/news/2019/03/06/sofar/  ...    Оружие\n",
              "1    https://lenta.ru/news/2019/03/05/sexists_gibdd/  ...  Интернет\n",
              "2       https://lenta.ru/news/2019/03/06/vishinskiy/  ...   Украина\n",
              "3  https://lenta.ru/news/2019/03/06/champions_lea...  ...    Футбол\n",
              "4        https://lenta.ru/news/2019/03/06/venezuela/  ...       NaN\n",
              "\n",
              "[5 rows x 5 columns]"
            ]
          },
          "metadata": {
            "tags": []
          },
          "execution_count": 31
        }
      ]
    },
    {
      "cell_type": "code",
      "metadata": {
        "id": "hgfW30bgdHdL",
        "colab_type": "code",
        "colab": {}
      },
      "source": [
        "def preprocess_text(document):\n",
        "    document = re.sub(r'\\W', ' ',  document)\n",
        "    document = re.sub(r'\\s+[a-zA-Z]\\s+', ' ', document)\n",
        "    document = re.sub(r'\\^[a-zA-Z]\\s+', ' ', document) \n",
        "    document = re.sub(r'\\s+', ' ', document, flags=re.I)\n",
        "    document = re.sub(r'[^\\w]', ' ', document)\n",
        "    return document"
      ],
      "execution_count": 0,
      "outputs": []
    },
    {
      "cell_type": "code",
      "metadata": {
        "id": "n-JYkkT7dL9D",
        "colab_type": "code",
        "outputId": "9ecebe7d-89f2-42bd-b75d-58cbefc0746c",
        "colab": {
          "base_uri": "https://localhost:8080/",
          "height": 119
        }
      },
      "source": [
        "data.title = data.title.apply(lambda x: preprocess_text(x))\n",
        "data = data.title\n",
        "data.head()"
      ],
      "execution_count": 0,
      "outputs": [
        {
          "output_type": "execute_result",
          "data": {
            "text/plain": [
              "0                       Раскрыта уязвимость Посейдона \n",
              "1                  ГИБДД помечтала о дороге без женщин\n",
              "2    Кириллу Вышинскому предъявили обвинения и собр...\n",
              "3     Реал впервые за 5 лет остался без четвертьфин...\n",
              "4      Определено будущее венесуэльских денег в России\n",
              "Name: title, dtype: object"
            ]
          },
          "metadata": {
            "tags": []
          },
          "execution_count": 34
        }
      ]
    },
    {
      "cell_type": "code",
      "metadata": {
        "id": "aSaCdB-2daTN",
        "colab_type": "code",
        "colab": {}
      },
      "source": [
        "import numpy as np\n",
        "import torch\n",
        "from torch import nn\n",
        "import torch.nn.functional as F\n",
        "import itertools"
      ],
      "execution_count": 0,
      "outputs": []
    },
    {
      "cell_type": "code",
      "metadata": {
        "id": "nNDW3PHxVzLO",
        "colab_type": "code",
        "colab": {}
      },
      "source": [
        "SEQ_END = '@'\n",
        "SEQ_TILDA = '~'"
      ],
      "execution_count": 0,
      "outputs": []
    },
    {
      "cell_type": "code",
      "metadata": {
        "id": "J0QKl_rbdbzH",
        "colab_type": "code",
        "colab": {}
      },
      "source": [
        "LEN = 83\n",
        "titles = [title[1:-1] for title in data]"
      ],
      "execution_count": 0,
      "outputs": []
    },
    {
      "cell_type": "code",
      "metadata": {
        "id": "v7ab1nDNdcb8",
        "colab_type": "code",
        "colab": {}
      },
      "source": [
        "vocab = list(set(' '.join(titles) + SEQ_TILDA + SEQ_END))\n",
        "vocab.append(SEQ_END)\n",
        "vocab.append(SEQ_TILDA)\n",
        "char_to_int = {a : i for i, a in enumerate(sorted(vocab))}\n",
        "int_to_char = {i : a for i, a in enumerate(sorted(vocab))}"
      ],
      "execution_count": 0,
      "outputs": []
    },
    {
      "cell_type": "code",
      "metadata": {
        "id": "wqe12dnMcNkn",
        "colab_type": "code",
        "colab": {}
      },
      "source": [
        "class Model(nn.Module):\n",
        "    def __init__(self, input_size, emb_size, output_size):\n",
        "        super(Model, self).__init__()\n",
        "        self.input_size = input_size\n",
        "        self.output_size = output_size\n",
        "        \n",
        "        self.emb = nn.Embedding(input_size, hidden_size)\n",
        "        self.ltsm1 = nn.LSTM(input_size, emb_size, batch_first=True)\n",
        "        self.ltsm2 = nn.LSTM(emb_size, emb_size, batch_first=True)\n",
        "        self.decoder = nn.Linear(emb_size, output_size)\n",
        "    \n",
        "    def forward(self, inp):\n",
        "        inp = self.emb(inp)\n",
        "        inp, _ = self.ltsm1(inp)\n",
        "        inp, _ = self.ltsm2(inp)\n",
        "        inp = self.decoder(inp)\n",
        "        return inp"
      ],
      "execution_count": 0,
      "outputs": []
    },
    {
      "cell_type": "code",
      "metadata": {
        "id": "NtMQkkyUdgB_",
        "colab_type": "code",
        "colab": {}
      },
      "source": [
        "def transform(titles):\n",
        "    X = np.array([list(x + SEQ_TILDA * (sequence_len - len(x))) for x in titles])\n",
        "    Y = np.array([list(x[1:] + SEQ_END + SEQ_TILDA * (sequence_len - len(x))) for x in titles])\n",
        "\n",
        "    X = [[char_to_int[t] for t in title] for title in X]\n",
        "    Y = [[char_to_int[t] for t in title] for title in Y]\n",
        "    return X, Y"
      ],
      "execution_count": 0,
      "outputs": []
    },
    {
      "cell_type": "code",
      "metadata": {
        "id": "RzXW-a3Mdhh2",
        "colab_type": "code",
        "colab": {}
      },
      "source": [
        "def create_batch(indxs, X, Y, batch_size):\n",
        "    if batch_size * (indxs + 1) > len(X):       \n",
        "        for _ in range(len(X) - batch_size * (indxs + 1)):\n",
        "            X.append([char_to_int[SEQ_END] * LEN])\n",
        "            Y.append([char_to_int[SEQ_END] * LEN])\n",
        "            \n",
        "    x = torch.stack([torch.Tensor(i) for i in X[batch_size * indxs : batch_size * (indxs + 1)]]).long()\n",
        "    \n",
        "    \n",
        "    y = torch.stack([torch.Tensor(i) for i in Y[batch_size * indxs : batch_size * (indxs + 1)]]).long()\n",
        "    return x, y"
      ],
      "execution_count": 0,
      "outputs": []
    },
    {
      "cell_type": "code",
      "metadata": {
        "id": "nZrnzbxNd5HI",
        "colab_type": "code",
        "colab": {}
      },
      "source": [
        "X, Y = transform(titles)"
      ],
      "execution_count": 0,
      "outputs": []
    },
    {
      "cell_type": "code",
      "metadata": {
        "id": "KbpSkrMUwP5r",
        "colab_type": "code",
        "colab": {}
      },
      "source": [
        "model_path = '/content/drive/My Drive/nlp/model.torch'"
      ],
      "execution_count": 0,
      "outputs": []
    },
    {
      "cell_type": "code",
      "metadata": {
        "id": "Cb9F2ubldkQT",
        "colab_type": "code",
        "colab": {}
      },
      "source": [
        "batch_size = 10\n",
        "embedding_size = 128\n",
        "epoch_n = 5\n",
        "net = Model(len(vocab), embedding_size, len(vocab))\n",
        "try:\n",
        "  net.load_state_dict(torch.load(model_path))\n",
        "except:\n",
        "  pass\n",
        "opt = torch.optim.Adam(net.parameters(), lr=1e-3)\n",
        "criterion = nn.CrossEntropyLoss()"
      ],
      "execution_count": 0,
      "outputs": []
    },
    {
      "cell_type": "code",
      "metadata": {
        "id": "01eZSU_-dceH",
        "colab_type": "code",
        "colab": {}
      },
      "source": [
        "for epoch in range(epoch_n):  \n",
        "    print('Epoch#', epoch)\n",
        "    train_loss = 0.\n",
        "    net.train(True)\n",
        "    for i in tqdm(range(len(X) // batch_size)):\n",
        "        batch, y = create_batch(i, X, Y, batch_size)\n",
        "        out = net.forward(batch)\n",
        "        pred = out.cpu().detach().numpy().argmax(axis=2)[0]\n",
        "      \n",
        "        loss = criterion(out.transpose(2, 1), y)\n",
        "        \n",
        "        loss.backward()\n",
        "        opt.step()\n",
        "        opt.zero_grad()\n",
        "        \n",
        "        train_loss += loss.item()        \n",
        "        \n",
        "        if i % 100 == 0:\n",
        "          print(i, loss.item())\n",
        "        \n",
        "        if i % 10 == 0:\n",
        "          torch.save(net.state_dict(), model_path)\n",
        "    train_loss /= (len(X) // batch_size)\n",
        "    \n",
        "    print('\\nEpoch: {}, train loss: {}'.format(epoch, train_loss))\n"
      ],
      "execution_count": 0,
      "outputs": []
    },
    {
      "cell_type": "code",
      "metadata": {
        "id": "pOo_vu87dyOg",
        "colab_type": "code",
        "colab": {}
      },
      "source": [
        "def evaluate(word):\n",
        "  net.eval()\n",
        "  for _ in range (1, LEN):\n",
        "    input = [[char_to_int[a] for a in c] for c in word]\n",
        "    batch, y = create_batch(0, input, None, batch_size)\n",
        "    out = net.forward(batch)\n",
        "    pred = out.cpu().detach().numpy().argmax(axis=2)[0]\n",
        "    char = ind_to_char[pred[-1]]\n",
        "    if char is SEQ_TILDA:\n",
        "      print(SEQ_TILDA)\n",
        "      break\n",
        "    word = [word[0] + char]\n",
        "  return word"
      ],
      "execution_count": 0,
      "outputs": []
    },
    {
      "cell_type": "code",
      "metadata": {
        "id": "8ggpvOY2hB7M",
        "colab_type": "code",
        "colab": {
          "base_uri": "https://localhost:8080/",
          "height": 34
        },
        "outputId": "362319be-63d9-43b7-8f25-6edd9c29a686"
      },
      "source": [
        "evaluate(['Полиция'])"
      ],
      "execution_count": 171,
      "outputs": [
        {
          "output_type": "execute_result",
          "data": {
            "text/plain": [
              "['Полиция пострадала на видео с полицейского по стрельбе с полицейского по стрельбе с полиц']"
            ]
          },
          "metadata": {
            "tags": []
          },
          "execution_count": 171
        }
      ]
    }
  ]
}